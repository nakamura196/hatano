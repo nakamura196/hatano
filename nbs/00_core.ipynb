{
 "cells": [
  {
   "cell_type": "markdown",
   "metadata": {},
   "source": [
    "# core\n",
    "\n",
    "> Fill in a module description here"
   ]
  },
  {
   "cell_type": "code",
   "execution_count": 1,
   "metadata": {},
   "outputs": [],
   "source": [
    "#| default_exp core"
   ]
  },
  {
   "cell_type": "code",
   "execution_count": 2,
   "metadata": {},
   "outputs": [],
   "source": [
    "#| hide\n",
    "from nbdev.showdoc import *"
   ]
  },
  {
   "cell_type": "code",
   "execution_count": 3,
   "metadata": {},
   "outputs": [],
   "source": [
    "#| export\n",
    "import streamlit as st\n",
    "import pandas as pd\n",
    "import matplotlib.pyplot as plt\n",
    "import io\n",
    "from matplotlib import font_manager\n",
    "import japanize_matplotlib  # 日本語フォントのサポート"
   ]
  },
  {
   "cell_type": "code",
   "execution_count": 4,
   "metadata": {},
   "outputs": [],
   "source": [
    "#| export\n",
    "\n",
    "\n",
    "class Client:\n",
    "    def __init__(self, path):\n",
    "        self.sheets = pd.read_excel(path, sheet_name=None)\n",
    "        self.term = None\n",
    "\n",
    "    def extract_char(self, term):\n",
    "        self.term = term\n",
    "        sheets = self.sheets\n",
    "        rows_target = []\n",
    "\n",
    "        for sheet_name, df in sheets.items():\n",
    "            column_names = df.columns.tolist()\n",
    "            if column_names[0] != \"ID\":\n",
    "                continue\n",
    "\n",
    "            for i, row in df.iterrows():\n",
    "                char = row[\"Char\"]\n",
    "                # print(char)\n",
    "                if char != term:\n",
    "                    continue\n",
    "                rows_target.append(row)\n",
    "\n",
    "        return pd.DataFrame(rows_target)\n",
    "\n",
    "    def visualize(self, df):\n",
    "        # Create figure\n",
    "        fig, ax = plt.subplots()\n",
    "        \n",
    "        # 散布図を作成\n",
    "        ax.scatter(df['beside'], df['Angle'])\n",
    "        \n",
    "        # 軸の範囲を設定\n",
    "        ax.set_xlim(0, 2)\n",
    "        ax.set_ylim(0, 30)\n",
    "        \n",
    "        # タイトルと軸ラベルを設定\n",
    "        ax.set_title(f'\"{self.term}\"の比較')\n",
    "        ax.set_xlabel('縦横比')\n",
    "        ax.set_ylabel('傾き')\n",
    "        \n",
    "        return fig\n"
   ]
  },
  {
   "cell_type": "code",
   "execution_count": 5,
   "metadata": {},
   "outputs": [],
   "source": [
    "#| hide\n",
    "import nbdev; nbdev.nbdev_export()"
   ]
  }
 ],
 "metadata": {
  "kernelspec": {
   "display_name": ".venv",
   "language": "python",
   "name": "python3"
  },
  "language_info": {
   "codemirror_mode": {
    "name": "ipython",
    "version": 3
   },
   "file_extension": ".py",
   "mimetype": "text/x-python",
   "name": "python",
   "nbconvert_exporter": "python",
   "pygments_lexer": "ipython3",
   "version": "3.9.11"
  }
 },
 "nbformat": 4,
 "nbformat_minor": 4
}
